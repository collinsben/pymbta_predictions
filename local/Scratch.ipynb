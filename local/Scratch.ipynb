{
 "cells": [
  {
   "cell_type": "code",
   "execution_count": 20,
   "metadata": {},
   "outputs": [],
   "source": [
    "from datetime import datetime, timezone, timedelta\n",
    "import requests\n",
    "from typing import Union\n",
    "import zoneinfo\n",
    "\n",
    "BASE_URL = 'https://api-v3.mbta.com/'\n",
    "TIMEZONE_INFO = zoneinfo.ZoneInfo(\"America/New_York\")\n",
    "TIME_FORMAT = '%Y-%m-%dT%H:%M:%S%z'"
   ]
  },
  {
   "cell_type": "code",
   "execution_count": 14,
   "metadata": {},
   "outputs": [],
   "source": [
    "place='place-cntsq'\n",
    "stop_info_query = (f'{BASE_URL}predictions?'\n",
    "                   f'include=route,trip,vehicle&'\n",
    "                   f'filter[stop]={place}&'\n",
    "                   f'sort=departure_time')\n",
    "stop_info = requests.get(stop_info_query).json()\n"
   ]
  },
  {
   "cell_type": "code",
   "execution_count": 18,
   "metadata": {},
   "outputs": [
    {
     "name": "stdout",
     "output_type": "stream",
     "text": [
      "35\n",
      "21\n"
     ]
    },
    {
     "data": {
      "text/plain": [
       "{'attributes': {'bikes_allowed': 0,\n",
       "  'block_id': 'S931_-6',\n",
       "  'direction_id': 1,\n",
       "  'headsign': 'Alewife',\n",
       "  'name': '',\n",
       "  'wheelchair_accessible': 1},\n",
       " 'id': '52371044',\n",
       " 'links': {'self': '/trips/52371044'},\n",
       " 'relationships': {'route': {'data': {'id': 'Red', 'type': 'route'}},\n",
       "  'route_pattern': {'data': {'id': 'Red-1-1', 'type': 'route_pattern'}},\n",
       "  'service': {'data': {'id': 'RTL322-9-Sa-01', 'type': 'service'}},\n",
       "  'shape': {'data': {'id': '931_0010', 'type': 'shape'}},\n",
       "  'vehicle': {'data': None}},\n",
       " 'type': 'trip'}"
      ]
     },
     "execution_count": 18,
     "metadata": {},
     "output_type": "execute_result"
    }
   ],
   "source": [
    "print(len(stop_info['included']))\n",
    "\n",
    "trips = [s for s in stop_info['included'] if s['type'] == 'trip']\n",
    "vehicle = [s for s in stop_info['included'] if s['type'] == 'vehicle']\n",
    "\n",
    "print(len(trips))\n",
    "\n",
    "trips[0]\n",
    "# vehicle[0]"
   ]
  },
  {
   "cell_type": "code",
   "execution_count": 26,
   "metadata": {},
   "outputs": [],
   "source": [
    "def _get_matching_id(items: list[dict], search_id) -> Union[dict, None]:\n",
    "  \"\"\"Given a list of JSONs, return the one with an 'ID' field that matches\"\"\"\n",
    "  for item in items:\n",
    "    if item['id'] == search_id:\n",
    "      return item\n",
    "  return None\n",
    "\n",
    "\n",
    "def get_predictions_for_stop(stop_id: str, route_id: str, num_predicts: int) -> tuple:\n",
    "  \"\"\"Given an MBTA place, return predicted vehicles that meet the qualifications\n",
    "\n",
    "  Args:\n",
    "    stop_id: place to query\n",
    "    route_id: the line the vehicle you are looking for is on\n",
    "    num_predicts: the number of predicitons for each direction to return\n",
    "  Returns:\n",
    "    ([list of num_predicts predictions for dir=0), [... for dir=1])\n",
    "    predictions are dicts with the following fields:\n",
    "    {direction_name: direction name from the route,\n",
    "     distance_s: vehicle distance in seconds\n",
    "     display_str: string to display for vehicle\n",
    "     headsign: vehicle headsign\n",
    "    }\n",
    "  \"\"\"\n",
    "  query_url = (f'{BASE_URL}predictions?'\n",
    "               f'include=route,trip,vehicle&'\n",
    "               f'filter[stop]={stop_id}&sort=departure_time')\n",
    "\n",
    "  query_data = requests.get(query_url).json()\n",
    "\n",
    "  predictions = query_data['data']\n",
    "\n",
    "  routes = [item for item in query_data['included'] if item['type'] == 'route']\n",
    "  trips = [item for item in query_data['included'] if item['type'] == 'trip']\n",
    "  vehicles = [item for item in query_data['included'] if item['type'] == 'vehicle']\n",
    "\n",
    "  route = _get_matching_id(routes, route_id)\n",
    "  if route is None:\n",
    "    return ()\n",
    "\n",
    "  # Pull out the next num_predicts predictions for each direction:\n",
    "  parsed_predictions = ([], [])\n",
    "  for prediction in predictions:\n",
    "    if prediction['relationships']['route']['data']['id'] != route_id:\n",
    "      # Ignore if for a different route\n",
    "      continue\n",
    "    if prediction['attributes']['departure_time'] is None:\n",
    "      # Ignore if there's no departure time, this means the vehicle isn't stopping\n",
    "      continue\n",
    "    direction = int(prediction['attributes']['direction_id'])\n",
    "    if len(parsed_predictions[direction]) >= num_predicts:\n",
    "      continue\n",
    "\n",
    "    direction = int(prediction['attributes']['direction_id'])\n",
    "    direction_name = route['attributes']['direction_names'][direction]\n",
    "\n",
    "    arrival_time = datetime.strptime(\n",
    "      prediction['attributes']['arrival_time'], TIME_FORMAT)\n",
    "    departure_time = datetime.strptime(\n",
    "      prediction['attributes']['departure_time'], TIME_FORMAT)\n",
    "    distance_s = arrival_time - datetime.now(TIMEZONE_INFO)\n",
    "    distance_s = distance_s.seconds\n",
    "\n",
    "    if prediction['attributes']['status']:\n",
    "      # Deal with this\n",
    "      display_str = prediction['attributes']['status']\n",
    "    else:\n",
    "      display_str = f'{int(distance_s / 60 + 0.5):0.0f} min'\n",
    "\n",
    "    vehicle = _get_matching_id(vehicles,\n",
    "                               prediction['relationships']['vehicle']['data']['id'])\n",
    "    trip = _get_matching_id(trips, prediction['relationships']['trip']['data']['id'])\n",
    "    headsign = trip['attributes']['headsign']\n",
    "\n",
    "    parsed_predictions[direction].append(\n",
    "      {'direction_name': direction_name,\n",
    "       'display_str:': display_str,\n",
    "       'distance_s': distance_s,\n",
    "       'headsign': headsign}\n",
    "    )\n",
    "  return parsed_predictions"
   ]
  },
  {
   "cell_type": "code",
   "execution_count": 27,
   "metadata": {},
   "outputs": [
    {
     "data": {
      "text/plain": [
       "([{'direction_name': 'South',\n",
       "   'display_str:': '3 min',\n",
       "   'distance_s': 187,\n",
       "   'headsign': 'Ashmont'},\n",
       "  {'direction_name': 'South',\n",
       "   'display_str:': '7 min',\n",
       "   'distance_s': 445,\n",
       "   'headsign': 'Braintree'}],\n",
       " [{'direction_name': 'North',\n",
       "   'display_str:': '4 min',\n",
       "   'distance_s': 246,\n",
       "   'headsign': 'Alewife'},\n",
       "  {'direction_name': 'North',\n",
       "   'display_str:': '8 min',\n",
       "   'distance_s': 452,\n",
       "   'headsign': 'Alewife'}])"
      ]
     },
     "execution_count": 27,
     "metadata": {},
     "output_type": "execute_result"
    }
   ],
   "source": [
    "get_predictions_for_stop('place-cntsq', 'Red', 2)"
   ]
  },
  {
   "cell_type": "code",
   "execution_count": null,
   "metadata": {},
   "outputs": [],
   "source": [
    "Works! Need to use vehicle info to add \"ARR\"/\"BRD\" info"
   ]
  }
 ],
 "metadata": {
  "kernelspec": {
   "display_name": "Python 3",
   "language": "python",
   "name": "python3"
  },
  "language_info": {
   "codemirror_mode": {
    "name": "ipython",
    "version": 3
   },
   "file_extension": ".py",
   "mimetype": "text/x-python",
   "name": "python",
   "nbconvert_exporter": "python",
   "pygments_lexer": "ipython3",
   "version": "3.9.5"
  }
 },
 "nbformat": 4,
 "nbformat_minor": 4
}
